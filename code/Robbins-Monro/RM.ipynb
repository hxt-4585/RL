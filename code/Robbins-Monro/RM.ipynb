{
 "cells": [
  {
   "cell_type": "code",
   "execution_count": 56,
   "metadata": {},
   "outputs": [],
   "source": [
    "import numpy as np"
   ]
  },
  {
   "cell_type": "code",
   "execution_count": 57,
   "metadata": {},
   "outputs": [],
   "source": [
    "def f(x):\n",
    "    return np.tanh(x - 1)\n",
    "\n",
    "def RM(w1, iteration, eta=1):\n",
    "    w_previous = np.float64(w1)  # 强制转换为高精度浮点数\n",
    "    for k in range(1, iteration + 1):\n",
    "        noise = np.random.uniform(-1, 1)\n",
    "        a_k = np.float64(eta / k)  # 确保步长是高精度浮点数\n",
    "        w_next = w_previous - a_k * (f(w_previous) + noise)\n",
    "\n",
    "        w_previous = w_next\n",
    "        \n",
    "    return w_next"
   ]
  },
  {
   "cell_type": "code",
   "execution_count": 58,
   "metadata": {},
   "outputs": [
    {
     "data": {
      "text/plain": [
       "1.0045321625691097"
      ]
     },
     "execution_count": 58,
     "metadata": {},
     "output_type": "execute_result"
    }
   ],
   "source": [
    "res = RM(2.5, 10000)\n",
    "res"
   ]
  },
  {
   "cell_type": "code",
   "execution_count": 62,
   "metadata": {},
   "outputs": [
    {
     "name": "stdout",
     "output_type": "stream",
     "text": [
      "Estimated Mean: 1.00921433104824\n"
     ]
    }
   ],
   "source": [
    "import numpy as np\n",
    "\n",
    "def RM_mean_estimation(iterations, eta=1.0):\n",
    "    # 初始化均值估计\n",
    "    mu_hat = 0.0\n",
    "    \n",
    "    # 逐步迭代更新均值估计\n",
    "    for k in range(1, iterations + 1):\n",
    "        # 从目标分布中随机采样一个样本（以标准正态分布为例）\n",
    "        x_k = np.random.normal(1, 1)  # 可以换成其他分布\n",
    "        \n",
    "        # 步长更新，a_k = eta / k\n",
    "        a_k = eta / k\n",
    "        \n",
    "        # 更新均值估计\n",
    "        mu_hat = mu_hat + a_k * (x_k - mu_hat)\n",
    "        \n",
    "        # 输出当前迭代的均值估计（可选）\n",
    "        # print(f\"Iteration {k}: Mean Estimate = {mu_hat}\")\n",
    "    \n",
    "    return mu_hat\n",
    "\n",
    "# 运行随机近似算法，设定迭代次数\n",
    "estimated_mean = RM_mean_estimation(iterations=10000)\n",
    "print(f\"Estimated Mean: {estimated_mean}\")\n"
   ]
  }
 ],
 "metadata": {
  "kernelspec": {
   "display_name": "reinforcementLearning",
   "language": "python",
   "name": "python3"
  },
  "language_info": {
   "codemirror_mode": {
    "name": "ipython",
    "version": 3
   },
   "file_extension": ".py",
   "mimetype": "text/x-python",
   "name": "python",
   "nbconvert_exporter": "python",
   "pygments_lexer": "ipython3",
   "version": "3.8.19"
  }
 },
 "nbformat": 4,
 "nbformat_minor": 2
}
