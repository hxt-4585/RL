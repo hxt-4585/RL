{
 "cells": [
  {
   "cell_type": "code",
   "execution_count": 1,
   "metadata": {},
   "outputs": [],
   "source": [
    "import numpy as np\n",
    "import pandas as pd"
   ]
  },
  {
   "cell_type": "code",
   "execution_count": 75,
   "metadata": {},
   "outputs": [],
   "source": [
    "import numpy as np\n",
    "\n",
    "# 多臂老虎机类\n",
    "class MultiArmsBandit:\n",
    "    def __init__(self, arms, means, stds):\n",
    "        self.arms = arms\n",
    "        self.means = means\n",
    "        self.stds = stds\n",
    "        \n",
    "    def pull(self, arm):\n",
    "        return np.random.normal(self.means[arm], self.stds[arm])\n",
    "\n",
    "\n",
    "# ϵ-贪心算法类\n",
    "class EpsilonGreedy:\n",
    "    def __init__(self, bandit, epsilon=0.1, initial_value=0.1):\n",
    "        self.bandit = bandit\n",
    "        self.epsilon = epsilon\n",
    "        self.counts = np.zeros(bandit.arms)\n",
    "        self.values = np.full(bandit.arms, initial_value)\n",
    "\n",
    "    def select_arm(self):\n",
    "        if np.all(self.values == self.values[0]):\n",
    "            return np.random.randint(self.bandit.arms)\n",
    "        if np.random.random() < self.epsilon:\n",
    "            return np.random.randint(self.bandit.arms)  # 随机探索\n",
    "        else:\n",
    "            return np.argmax(self.values)  # 选择目前最优的臂\n",
    "    \n",
    "    def update(self, arm, reward):\n",
    "        self.counts[arm] += 1\n",
    "        n = self.counts[arm]\n",
    "        # 更新指定臂的平均奖励\n",
    "        self.values[arm] = self.values[arm] + (reward - self.values[arm]) / n\n",
    "\n",
    "    def run(self, n_trials):\n",
    "        total_reward = 0\n",
    "        for _ in range(n_trials):\n",
    "            arm = self.select_arm()\n",
    "            reward = self.bandit.pull(arm)\n",
    "            self.update(arm, reward)\n",
    "            total_reward += reward\n",
    "        return total_reward\n",
    "    \n",
    "    \n"
   ]
  },
  {
   "cell_type": "code",
   "execution_count": 80,
   "metadata": {},
   "outputs": [
    {
     "name": "stdout",
     "output_type": "stream",
     "text": [
      "Total reward after 50000 trials: 10480.04204289335\n",
      "Average reward per arm: [0.20024559 0.10004513 0.30005972]\n",
      "Number of times each arm was pulled: [14941. 15157. 19902.]\n"
     ]
    }
   ],
   "source": [
    "# 示例使用\n",
    "if __name__ == \"__main__\":\n",
    "    # 定义手臂的数量、均值和标准差\n",
    "    arms = 3\n",
    "    means = [0.2, 0.1, 0.3]  # 假设的均值\n",
    "    stds = [0.02, 0.01, 0.03]  # 假设的标准差\n",
    "    \n",
    "    # 创建多臂老虎机实例\n",
    "    bandit = MultiArmsBandit(arms, means, stds)\n",
    "    \n",
    "    # 创建ϵ-贪心算法实例\n",
    "    epsilon_greedy = EpsilonGreedy(bandit, epsilon=0.9)\n",
    "    \n",
    "    # 运行试验\n",
    "    n_trials = 50000\n",
    "    total_reward = epsilon_greedy.run(n_trials)\n",
    "    \n",
    "    print(f\"Total reward after {n_trials} trials: {total_reward}\")\n",
    "    print(f\"Average reward per arm: {epsilon_greedy.values}\")\n",
    "    print(f\"Number of times each arm was pulled: {epsilon_greedy.counts}\")"
   ]
  }
 ],
 "metadata": {
  "kernelspec": {
   "display_name": "reinforcementLearning",
   "language": "python",
   "name": "python3"
  },
  "language_info": {
   "codemirror_mode": {
    "name": "ipython",
    "version": 3
   },
   "file_extension": ".py",
   "mimetype": "text/x-python",
   "name": "python",
   "nbconvert_exporter": "python",
   "pygments_lexer": "ipython3",
   "version": "3.8.19"
  }
 },
 "nbformat": 4,
 "nbformat_minor": 2
}
